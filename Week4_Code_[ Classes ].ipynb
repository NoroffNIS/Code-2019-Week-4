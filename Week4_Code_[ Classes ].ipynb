{
 "cells": [
  {
   "cell_type": "markdown",
   "metadata": {},
   "source": [
    "<style>\n",
    " .rendered_html img {margin-left: 0 !important;float:left} \n",
    " .rendered_html table {margin-left: 0 !important;}  \n",
    "</style>\n",
    "\n",
    "<img src=https://www.noroff.no/images/logo/noroff-logo216x65.png>\n",
    "\n",
    "## Classes"
   ]
  },
  {
   "cell_type": "code",
   "execution_count": 1,
   "metadata": {},
   "outputs": [],
   "source": [
    "class Car:\n",
    "    \"\"\"A Simple Car Class\"\"\"\n",
    "    def __init__(self):\n",
    "        self.type = \"\"\n",
    "        self.model = \"\"\n",
    "        self.wheels = 4\n",
    "        self.doors = 3\n",
    "        self.seets = 5\n",
    "        self.maxspeed = 100\n",
    "\n",
    "    def print_model(self):\n",
    "        print(\"This car is a {model}: {type}, Wow!\".format(model=self.model,type= self.type))\n",
    "\n",
    "    def print_space(self):\n",
    "        print(\"The car has {0} doors and {1} seets\".format(self.doors, self.seets))\n",
    "\n",
    "    def __str__(self):\n",
    "        return \"\"\"\n",
    "This car is a {s.model}: {s.type}, Wow!\n",
    "The car has {s.doors} doors and {s.seets} seets\"\"\".format(s=self)\n",
    "    \n",
    "    "
   ]
  },
  {
   "cell_type": "code",
   "execution_count": null,
   "metadata": {},
   "outputs": [],
   "source": [
    "class BMW(Car):\n",
    "    \"\"\"A BMW Car\"\"\"\n",
    "    def __init__(self, **arg):\n",
    "          Car.__init__(self)\n",
    "          self.model = \"BMW\"\n",
    "          self.type = \"{} Series\".format(arg.get(\"type\"))\n",
    "          self.doors = arg.get(\"doors\")\n",
    "          self.fuel = arg.get(\"fuel\")"
   ]
  },
  {
   "cell_type": "code",
   "execution_count": null,
   "metadata": {},
   "outputs": [],
   "source": [
    "class Mercedes(Car):\n",
    "    \"\"\"A Mercedes Car\"\"\"\n",
    "    def __init__(self, **arg):\n",
    "        Car.__init__(self)\n",
    "        self.model = \"Mercedes\"\n",
    "        self.type = \"{} Class\".format(arg.get(\"type\"))\n",
    "        self.doors = arg.get(\"doors\")\n",
    "        self.fuel = arg.get(\"fuel\")"
   ]
  },
  {
   "cell_type": "code",
   "execution_count": 1,
   "metadata": {},
   "outputs": [],
   "source": [
    "class Fuel:\n",
    "    def __init__(self, **arg):\n",
    "        self.liters = arg.get(\"liters\")\n",
    "        self.type = arg.get(\"type\")\n",
    "\n",
    "    def __str__(self):\n",
    "        return \"\"\"It uses {s.liters}L of {s.type}¢.\"\"\".format(s=self)\n",
    "    "
   ]
  },
  {
   "cell_type": "markdown",
   "metadata": {},
   "source": [
    "## Creating an Instance"
   ]
  },
  {
   "cell_type": "code",
   "execution_count": 5,
   "metadata": {},
   "outputs": [
    {
     "name": "stdout",
     "output_type": "stream",
     "text": [
      "This car is a Audi: A4, Wow!\n",
      "The car has 3 doors and 5 seets\n"
     ]
    }
   ],
   "source": [
    "a = Car()\n",
    "\n",
    "a.model = \"Audi\"\n",
    "a.type = \"A4\"\n",
    "\n",
    "a.print_model()\n",
    "a.print_space()"
   ]
  },
  {
   "cell_type": "code",
   "execution_count": 6,
   "metadata": {},
   "outputs": [
    {
     "name": "stdout",
     "output_type": "stream",
     "text": [
      "\n",
      "This car is a Audi: A4, Wow!\n",
      "The car has 3 doors and 5 seets\n"
     ]
    }
   ],
   "source": [
    "print(a)"
   ]
  },
  {
   "cell_type": "code",
   "execution_count": 8,
   "metadata": {},
   "outputs": [
    {
     "data": {
      "text/plain": [
       "56"
      ]
     },
     "execution_count": 8,
     "metadata": {},
     "output_type": "execute_result"
    }
   ],
   "source": [
    "import sys\n",
    "sys.getsizeof(a) #bytes in memmory"
   ]
  },
  {
   "cell_type": "markdown",
   "metadata": {},
   "source": [
    "## Creating Istances"
   ]
  },
  {
   "cell_type": "code",
   "execution_count": 11,
   "metadata": {},
   "outputs": [
    {
     "name": "stdout",
     "output_type": "stream",
     "text": [
      "\n",
      "This car is a Audi: A4, Wow!\n",
      "The car has 3 doors and 5 seets \n",
      "This car is a Mercedes: C Class, Wow!\n",
      "The car has 3 doors and 5 seets \n",
      "This car is a BMW: 5 Series, Wow!\n",
      "The car has 3 doors and 5 seets\n"
     ]
    }
   ],
   "source": [
    "\n",
    "a,b,c = Car(),Car(),Car()\n",
    "\n",
    "a.model = \"Audi\"\n",
    "a.type = \"A4\"\n",
    "\n",
    "b.model = \"Mercedes\"\n",
    "b.type = \"C Class\"\n",
    "\n",
    "c.model = \"BMW\"\n",
    "c.type = \"5 Series\"\n",
    "\n",
    "print(a,b,c)\n"
   ]
  },
  {
   "cell_type": "markdown",
   "metadata": {},
   "source": [
    "## Globals"
   ]
  },
  {
   "cell_type": "code",
   "execution_count": 32,
   "metadata": {},
   "outputs": [],
   "source": [
    "class CarStore:\n",
    "    \n",
    "    inventory = [] # A Global Variable\n",
    "    \n",
    "    def __init__(self, car_factory=None):\n",
    "        pass\n"
   ]
  },
  {
   "cell_type": "code",
   "execution_count": 33,
   "metadata": {},
   "outputs": [
    {
     "name": "stdout",
     "output_type": "stream",
     "text": [
      "['Car1', 'Car2']\n"
     ]
    }
   ],
   "source": [
    "        \n",
    "store = CarStore() # instance 1\n",
    "store.inventory.append(\"Car1\")\n",
    "\n",
    "store2 = CarStore() # Instance 2\n",
    "store2.inventory.append(\"Car2\")\n",
    "\n",
    "print(store.inventory) # This is the first instance but since there is a global both cars are in it\n"
   ]
  },
  {
   "cell_type": "markdown",
   "metadata": {},
   "source": [
    "## Builtin Functions\n"
   ]
  },
  {
   "cell_type": "code",
   "execution_count": 37,
   "metadata": {},
   "outputs": [
    {
     "data": {
      "text/plain": [
       "['__class__',\n",
       " '__delattr__',\n",
       " '__dict__',\n",
       " '__dir__',\n",
       " '__doc__',\n",
       " '__eq__',\n",
       " '__format__',\n",
       " '__ge__',\n",
       " '__getattribute__',\n",
       " '__gt__',\n",
       " '__hash__',\n",
       " '__init__',\n",
       " '__init_subclass__',\n",
       " '__le__',\n",
       " '__lt__',\n",
       " '__module__',\n",
       " '__ne__',\n",
       " '__new__',\n",
       " '__reduce__',\n",
       " '__reduce_ex__',\n",
       " '__repr__',\n",
       " '__setattr__',\n",
       " '__sizeof__',\n",
       " '__str__',\n",
       " '__subclasshook__',\n",
       " '__weakref__',\n",
       " 'inventory']"
      ]
     },
     "execution_count": 37,
     "metadata": {},
     "output_type": "execute_result"
    }
   ],
   "source": [
    "dir(CarStore)"
   ]
  },
  {
   "cell_type": "code",
   "execution_count": 26,
   "metadata": {},
   "outputs": [
    {
     "name": "stdout",
     "output_type": "stream",
     "text": [
      "Ø\n"
     ]
    },
    {
     "ename": "UnicodeEncodeError",
     "evalue": "'ascii' codec can't encode character '\\xd8' in position 0: ordinal not in range(128)",
     "output_type": "error",
     "traceback": [
      "\u001b[0;31m---------------------------------------------------------------------------\u001b[0m",
      "\u001b[0;31mUnicodeEncodeError\u001b[0m                        Traceback (most recent call last)",
      "\u001b[0;32m<ipython-input-26-21bb2b828e50>\u001b[0m in \u001b[0;36m<module>\u001b[0;34m()\u001b[0m\n\u001b[1;32m      3\u001b[0m \u001b[0mprint\u001b[0m\u001b[0;34m(\u001b[0m\u001b[0mstring\u001b[0m\u001b[0;34m)\u001b[0m\u001b[0;34m\u001b[0m\u001b[0m\n\u001b[1;32m      4\u001b[0m \u001b[0;34m\u001b[0m\u001b[0m\n\u001b[0;32m----> 5\u001b[0;31m \u001b[0mprint\u001b[0m\u001b[0;34m(\u001b[0m\u001b[0mstring\u001b[0m\u001b[0;34m.\u001b[0m\u001b[0mencode\u001b[0m\u001b[0;34m(\u001b[0m\u001b[0;34m\"ASCII\"\u001b[0m\u001b[0;34m)\u001b[0m\u001b[0;34m)\u001b[0m\u001b[0;34m\u001b[0m\u001b[0m\n\u001b[0m",
      "\u001b[0;31mUnicodeEncodeError\u001b[0m: 'ascii' codec can't encode character '\\xd8' in position 0: ordinal not in range(128)"
     ]
    }
   ],
   "source": [
    "string = \"Ø\"\n",
    "\n",
    "print(string)\n",
    "\n",
    "print(string.encode(\"ASCII\"))"
   ]
  },
  {
   "cell_type": "code",
   "execution_count": 27,
   "metadata": {},
   "outputs": [
    {
     "name": "stdout",
     "output_type": "stream",
     "text": [
      "b'\\xc3\\x98'\n"
     ]
    }
   ],
   "source": [
    "print(string.encode(\"UTF8\"))"
   ]
  },
  {
   "cell_type": "code",
   "execution_count": null,
   "metadata": {},
   "outputs": [],
   "source": []
  }
 ],
 "metadata": {
  "kernelspec": {
   "display_name": "Python 3",
   "language": "python",
   "name": "python3"
  },
  "language_info": {
   "codemirror_mode": {
    "name": "ipython",
    "version": 3
   },
   "file_extension": ".py",
   "mimetype": "text/x-python",
   "name": "python",
   "nbconvert_exporter": "python",
   "pygments_lexer": "ipython3",
   "version": "3.7.0"
  }
 },
 "nbformat": 4,
 "nbformat_minor": 2
}
