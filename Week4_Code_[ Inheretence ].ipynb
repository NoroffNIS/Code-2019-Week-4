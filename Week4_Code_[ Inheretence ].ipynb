{
 "cells": [
  {
   "attachments": {},
   "cell_type": "markdown",
   "metadata": {},
   "source": [
    "<style>\n",
    " .rendered_html img {margin-left: 0 !important;float:left} \n",
    " .rendered_html table {margin-left: 0 !important;}  \n",
    "</style>\n",
    "\n",
    "<img src=https://www.noroff.no/images/logo/noroff-logo216x65.png>\n",
    "\n",
    "## Objects Inheriting"
   ]
  },
  {
   "cell_type": "code",
   "execution_count": 3,
   "metadata": {},
   "outputs": [],
   "source": [
    "class Car:\n",
    "    \"\"\"A Simple Car Class\"\"\"\n",
    "    def __init__(self):\n",
    "        self.type = \"\"\n",
    "        self.model = \"\"\n",
    "        self.wheels = 4\n",
    "        self.doors = 3\n",
    "        self.seets = 5\n",
    "\n",
    "    def print_model(self):\n",
    "        print(\"This car is a {model}: {type}, Wow!\".format(model=self.model,type= self.type))\n",
    "\n",
    "    def print_space(self):\n",
    "        print(\"The car has {0} doors and {1} seets\".format(self.doors, self.seets))\n",
    "\n",
    "    def __str__(self):\n",
    "        return \"\"\"\n",
    "This car is a {s.model}: {s.type}, Wow!\n",
    "The car has {s.doors} doors and {s.seets} seets\"\"\".format(s=self)\n",
    "    \n",
    "    "
   ]
  },
  {
   "cell_type": "code",
   "execution_count": 4,
   "metadata": {},
   "outputs": [],
   "source": [
    "class BMW(Car):\n",
    "    \"\"\"A BMW Car\"\"\"\n",
    "    def __init__(self, **arg):\n",
    "          Car.__init__(self)\n",
    "          self.model = \"BMW\"\n",
    "          self.type = \"{} Series\".format(arg.get(\"type\"))\n",
    "          self.doors = arg.get(\"doors\")\n",
    "          self.fuel = arg.get(\"fuel\")"
   ]
  },
  {
   "cell_type": "code",
   "execution_count": 5,
   "metadata": {},
   "outputs": [],
   "source": [
    "class Mercedes(Car):\n",
    "    \"\"\"A Mercedes Car\"\"\"\n",
    "    def __init__(self, **arg):\n",
    "        Car.__init__(self)\n",
    "        self.model = \"Mercedes\"\n",
    "        self.type = \"{} Class\".format(arg.get(\"type\"))\n",
    "        self.doors = arg.get(\"doors\")\n",
    "        self.fuel = arg.get(\"fuel\")"
   ]
  },
  {
   "cell_type": "code",
   "execution_count": 6,
   "metadata": {},
   "outputs": [],
   "source": [
    "class Fuel:\n",
    "    def __init__(self, **arg):\n",
    "        self.liters = arg.get(\"liters\")\n",
    "        self.type = arg.get(\"type\")\n",
    "\n",
    "    def __str__(self):\n",
    "        return \"\"\"It uses {s.liters}L of {s.type}¢.\"\"\".format(s=self)\n",
    "    "
   ]
  },
  {
   "cell_type": "markdown",
   "metadata": {},
   "source": [
    "## Creating a Factory"
   ]
  },
  {
   "cell_type": "code",
   "execution_count": 11,
   "metadata": {},
   "outputs": [],
   "source": [
    "class CarFactory:\n",
    "      def __init__(self, arg):\n",
    "          self.car = arg.get(\"car\")\n",
    "          self.fuel = Fuel(liters=arg.get(\"fuel\").get(\"liters\"),type=arg.get(\"fuel\").get(\"type\"))\n",
    "\n"
   ]
  },
  {
   "cell_type": "code",
   "execution_count": 8,
   "metadata": {},
   "outputs": [],
   "source": [
    "class MercedesFactory(CarFactory):\n",
    "    def __init__(self, **kwargs):\n",
    "        CarFactory.__init__(self, kwargs)\n",
    "\n",
    "    def get_car(self):\n",
    "        \"\"\"Returns a Mercedes\"\"\"\n",
    "        return Mercedes(type=self.car.get(\"type\"), doors=self.car.get(\"doors\"), fuel=self.fuel)\n",
    "\n",
    "\n",
    "class BMWFactory(CarFactory):\n",
    "    def __init__(self, **kwargs):\n",
    "        CarFactory.__init__(self,kwargs)\n",
    "                              \n",
    "    def get_car(self):\n",
    "        \"\"\"Returns a Mercedes\"\"\"\n",
    "        return BMW(type=self.car.get(\"type\"), doors=self.car.get(\"doors\"), fuel=self.fuel)"
   ]
  },
  {
   "cell_type": "code",
   "execution_count": 9,
   "metadata": {},
   "outputs": [],
   "source": [
    "class CarStore:\n",
    "    inventory = []\n",
    "    def __init__(self, car_factory=None):\n",
    "        self._car_factory = car_factory\n",
    "        self.inventory.append(self._car_factory.get_car())\n",
    "        \n",
    "\n",
    "    def show_car(self,car=None):\n",
    "        if not car:\n",
    "            car = self._car_factory.get_car()\n",
    "        \n",
    "        print(car)\n",
    "        print(car.fuel)\n",
    "\n",
    "    def show_inventory(self):\n",
    "        for i in self.inventory:\n",
    "            self.show_car(i)\n",
    "\n",
    "    def __str__ (self):\n",
    "        return \"\".join([str(i) for i in self.inventory])"
   ]
  },
  {
   "cell_type": "markdown",
   "metadata": {},
   "source": [
    "## Creating Istances"
   ]
  },
  {
   "cell_type": "code",
   "execution_count": 10,
   "metadata": {},
   "outputs": [
    {
     "name": "stdout",
     "output_type": "stream",
     "text": [
      "\n",
      "This car is a Mercedes: E Class, Wow!\n",
      "The car has 2 doors and 5 seets\n",
      "It uses 2L of Disel¢.\n",
      "\n",
      "This car is a Mercedes: C Class, Wow!\n",
      "The car has 4 doors and 5 seets\n",
      "It uses 2L of Disel¢.\n",
      "\n",
      "This car is a BMW: 1 Series, Wow!\n",
      "The car has 3 doors and 5 seets\n",
      "It uses 2.5L of Gasoline¢.\n",
      "\n",
      "This car is a Mercedes: E Class, Wow!\n",
      "The car has 2 doors and 5 seets\n",
      "This car is a Mercedes: C Class, Wow!\n",
      "The car has 4 doors and 5 seets\n",
      "This car is a BMW: 1 Series, Wow!\n",
      "The car has 3 doors and 5 seets\n"
     ]
    }
   ],
   "source": [
    "        \n",
    "store = CarStore(MercedesFactory(car={\"type\":\"E\",\"doors\":2},fuel={\"liters\":2,\"type\":\"Disel\"}))\n",
    "store = CarStore(MercedesFactory(car={\"type\":\"C\",\"doors\":4},fuel={\"liters\":2,\"type\":\"Disel\"}))\n",
    "store = CarStore(BMWFactory(car={\"type\":\"1\",\"doors\":3},fuel={\"liters\":2.5,\"type\":\"Gasoline\"}))\n",
    "\n",
    "\n",
    "\n",
    "store.show_inventory()\n",
    "print(store)\n"
   ]
  },
  {
   "cell_type": "code",
   "execution_count": null,
   "metadata": {},
   "outputs": [],
   "source": []
  }
 ],
 "metadata": {
  "kernelspec": {
   "display_name": "Python 3",
   "language": "python",
   "name": "python3"
  },
  "language_info": {
   "codemirror_mode": {
    "name": "ipython",
    "version": 3
   },
   "file_extension": ".py",
   "mimetype": "text/x-python",
   "name": "python",
   "nbconvert_exporter": "python",
   "pygments_lexer": "ipython3",
   "version": "3.7.0"
  }
 },
 "nbformat": 4,
 "nbformat_minor": 2
}
