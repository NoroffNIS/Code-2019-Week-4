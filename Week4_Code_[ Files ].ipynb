{
 "cells": [
  {
   "cell_type": "markdown",
   "metadata": {},
   "source": [
    "<style>\n",
    " .rendered_html img {margin-left: 0 !important;float:left} \n",
    " .rendered_html table {margin-left: 0 !important;}  \n",
    "</style>\n",
    "\n",
    "<img src=https://www.noroff.no/images/logo/noroff-logo216x65.png>\n",
    "\n",
    "## Opening a file"
   ]
  },
  {
   "cell_type": "code",
   "execution_count": 26,
   "metadata": {},
   "outputs": [],
   "source": [
    "\"\"\"\n",
    "we can open a file with the open fucntion\n",
    "We ned to specify what mode we want to open it in.\n",
    "\n",
    "\"\"\"\n",
    "\n",
    "file = open(\"./file.txt\",\"w\") #Writes to the file deleating its content\n",
    "\n",
    "\"\"\"\n",
    "We can close a file with the close function\n",
    "\"\"\"\n",
    "\n",
    "file.close()"
   ]
  },
  {
   "cell_type": "code",
   "execution_count": 27,
   "metadata": {},
   "outputs": [],
   "source": [
    "file = open(\"./file.txt\",\"a\") #appends whatever we write to it\n",
    "file.close()"
   ]
  },
  {
   "cell_type": "code",
   "execution_count": 28,
   "metadata": {},
   "outputs": [],
   "source": [
    "file = open(\"./file.txt\",\"r\") #reads form the file\n",
    "file.close()"
   ]
  },
  {
   "cell_type": "markdown",
   "metadata": {},
   "source": [
    "## Writing to a file"
   ]
  },
  {
   "cell_type": "code",
   "execution_count": 29,
   "metadata": {},
   "outputs": [],
   "source": [
    "file = open(\"./file.txt\",\"w\")\n",
    "file.write(\"The text we want in the file!\")\n",
    "file.close()"
   ]
  },
  {
   "cell_type": "code",
   "execution_count": 30,
   "metadata": {},
   "outputs": [],
   "source": [
    "file = open(\"./file.txt\",\"a\") #appends to the file and dont wipe the content!\n",
    "file.write(\"The text we want in the file!\")\n",
    "file.close()"
   ]
  },
  {
   "cell_type": "markdown",
   "metadata": {},
   "source": [
    "## Reading form a file"
   ]
  },
  {
   "cell_type": "code",
   "execution_count": 31,
   "metadata": {},
   "outputs": [
    {
     "name": "stdout",
     "output_type": "stream",
     "text": [
      "The text we want in the file!The text we want in the file!\n"
     ]
    }
   ],
   "source": [
    "file = open(\"./file.txt\",\"r\")\n",
    "for i in file:\n",
    "    print(i)"
   ]
  },
  {
   "cell_type": "code",
   "execution_count": 32,
   "metadata": {},
   "outputs": [
    {
     "name": "stdout",
     "output_type": "stream",
     "text": [
      "The text we want in the file!The text we want in the file!\n"
     ]
    }
   ],
   "source": [
    "file = open(\"./file.txt\",\"r\")\n",
    "print(file.read())"
   ]
  },
  {
   "cell_type": "markdown",
   "metadata": {},
   "source": [
    "## Reading and Writing ÆØÅ\n"
   ]
  },
  {
   "cell_type": "code",
   "execution_count": 33,
   "metadata": {
    "scrolled": false
   },
   "outputs": [
    {
     "name": "stdout",
     "output_type": "stream",
     "text": [
      "The text we want in the file!The text we want in the file!ÆØÅæøå\n"
     ]
    },
    {
     "data": {
      "text/plain": [
       "[None]"
      ]
     },
     "execution_count": 33,
     "metadata": {},
     "output_type": "execute_result"
    }
   ],
   "source": [
    "file = open(\"./file.txt\",\"a\")\n",
    "file.write(\"ÆØÅæøå\")\n",
    "file.close()\n",
    "\n",
    "file = open(\"./file.txt\",\"r\")\n",
    "[print(i) for i in file]\n",
    "    "
   ]
  },
  {
   "cell_type": "markdown",
   "metadata": {},
   "source": [
    "## With"
   ]
  },
  {
   "cell_type": "code",
   "execution_count": 35,
   "metadata": {
    "scrolled": true
   },
   "outputs": [
    {
     "name": "stdout",
     "output_type": "stream",
     "text": [
      "<class '_io.TextIOWrapper'> <_io.TextIOWrapper name='./file.txt' mode='r' encoding='UTF-8'>\n",
      "The text we want in the file!The text we want in the file!ÆØÅæøå\n"
     ]
    }
   ],
   "source": [
    "with open(\"./file.txt\",\"r\") as f:\n",
    "    print(type(f),f)\n",
    "    print(f.read())"
   ]
  },
  {
   "cell_type": "markdown",
   "metadata": {},
   "source": [
    "## Manipulating the bit stream with Seek"
   ]
  },
  {
   "cell_type": "code",
   "execution_count": 47,
   "metadata": {},
   "outputs": [
    {
     "name": "stdout",
     "output_type": "stream",
     "text": [
      "Position 0\n",
      "The text w\n",
      "Position 5\n",
      "ext w\n",
      "Position 0\n",
      "The t\n"
     ]
    }
   ],
   "source": [
    "file = open(\"./file.txt\",\"r\") \n",
    "print(\"Position\", file.tell())\n",
    "print(file.read(10))\n",
    "\n",
    "\n",
    "file.seek(5) # avbsolute location\n",
    "print(\"Position\", file.tell())\n",
    "print(file.read(5))\n",
    "\n",
    "file.seek(0) # absolute location\n",
    "print(\"Position\", file.tell())\n",
    "print(file.read(5))\n"
   ]
  },
  {
   "cell_type": "markdown",
   "metadata": {},
   "source": [
    "## Pickle"
   ]
  },
  {
   "cell_type": "code",
   "execution_count": 5,
   "metadata": {},
   "outputs": [
    {
     "name": "stdout",
     "output_type": "stream",
     "text": [
      "Hello World!\n"
     ]
    }
   ],
   "source": [
    "import pickle\n",
    "\n",
    "data = {\"loool\":\"ehm...\"}\n",
    "\n",
    "def hello_world():\n",
    "    print(\"Hello World!\")\n",
    "\n",
    "with open(\"funciton.pk\",\"wb\") as f:   \n",
    "    pickle.dump((hello_world,data),f)\n",
    "\n",
    "hello_world()"
   ]
  },
  {
   "cell_type": "code",
   "execution_count": 6,
   "metadata": {},
   "outputs": [
    {
     "name": "stdout",
     "output_type": "stream",
     "text": [
      "<function hello_world at 0x10e6bdb70>\n",
      "{'loool': 'ehm...'}\n",
      "Hello World!\n"
     ]
    }
   ],
   "source": [
    "import pickle\n",
    "\n",
    "with open(\"funciton.pk\",\"rb\") as f:   \n",
    "    a,b = pickle.load(f)\n",
    "    print(a)\n",
    "    print(b)\n",
    "    a()\n",
    "    \n"
   ]
  },
  {
   "cell_type": "code",
   "execution_count": 7,
   "metadata": {},
   "outputs": [
    {
     "name": "stdout",
     "output_type": "stream",
     "text": [
      "NO!\n"
     ]
    }
   ],
   "source": [
    "def hello_world():\n",
    "    print(\"NO!\")\n",
    "    \n",
    "hello_world()\n",
    "data= \"\";\n"
   ]
  },
  {
   "cell_type": "code",
   "execution_count": null,
   "metadata": {},
   "outputs": [],
   "source": []
  }
 ],
 "metadata": {
  "kernelspec": {
   "display_name": "Python 3",
   "language": "python",
   "name": "python3"
  },
  "language_info": {
   "codemirror_mode": {
    "name": "ipython",
    "version": 3
   },
   "file_extension": ".py",
   "mimetype": "text/x-python",
   "name": "python",
   "nbconvert_exporter": "python",
   "pygments_lexer": "ipython3",
   "version": "3.7.0"
  }
 },
 "nbformat": 4,
 "nbformat_minor": 2
}
